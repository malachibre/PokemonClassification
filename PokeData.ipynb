import pandas as pd
import matplotlib.pyplot as plt
import seaborn as sns
import numpy as np
from sklearn import tree
from sklearn.metrics import confusion_matrix

clf = tree.DecisionTreeClassifier()

pokemon = pd.read_csv("Downloads/pokemon/Pokemon.csv", index_col = '#')
pokemon = pokemon.sort_values(by = "Legendary")
pokemon.insert(1, "Rel Index", [i for i in range(len(pokemon))])


print(pokemon.tail(67))
